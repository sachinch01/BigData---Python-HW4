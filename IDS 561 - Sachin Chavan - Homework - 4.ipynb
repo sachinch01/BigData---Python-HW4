{
 "cells": [
  {
   "cell_type": "code",
   "execution_count": 1,
   "id": "1dd984be",
   "metadata": {},
   "outputs": [],
   "source": [
    "from sklearn import datasets\n",
    "import pandas as pd\n",
    "\n",
    "import pyspark\n",
    "import findspark\n",
    "findspark.init()\n",
    "import re\n",
    "from pyspark.sql import SparkSession\n",
    "from pyspark import SparkContext\n",
    "from pyspark.sql import SQLContext\n",
    "spark = SparkSession.builder.appName('Hw4').getOrCreate()"
   ]
  },
  {
   "cell_type": "code",
   "execution_count": 2,
   "id": "80de2a8f",
   "metadata": {},
   "outputs": [],
   "source": [
    "#I will be opting the second option i.e. KMeans as I have worked with the Iris dataset in the past & I'm familiar with it."
   ]
  },
  {
   "cell_type": "markdown",
   "id": "ce6dfa70",
   "metadata": {},
   "source": [
    "# Option 2: K-means"
   ]
  },
  {
   "cell_type": "markdown",
   "id": "cfcfc55a",
   "metadata": {},
   "source": [
    "#Task 1: Import the Iris dataset"
   ]
  },
  {
   "cell_type": "code",
   "execution_count": 3,
   "id": "fc8e7ec8",
   "metadata": {},
   "outputs": [],
   "source": [
    "# load iris dataset\n",
    "iris = datasets.load_iris()\n",
    "\n",
    "iris_df = pd.DataFrame(iris.data) #Creating pandas dataframe\n",
    "\n",
    "iris_df['target'] = iris.target #Defining and naming the target column\n",
    "\n",
    "iris_df.columns = ['sepal_len', 'sepal_wid', 'petal_len', 'petal_wid', 'target'] #Naming other columns in the dataframe\n",
    "\n",
    "iris_df.dropna(how = \"all\", inplace = True) # Removing NA values if any"
   ]
  },
  {
   "cell_type": "code",
   "execution_count": 4,
   "id": "7d03f343",
   "metadata": {},
   "outputs": [
    {
     "data": {
      "text/html": [
       "<div>\n",
       "<style scoped>\n",
       "    .dataframe tbody tr th:only-of-type {\n",
       "        vertical-align: middle;\n",
       "    }\n",
       "\n",
       "    .dataframe tbody tr th {\n",
       "        vertical-align: top;\n",
       "    }\n",
       "\n",
       "    .dataframe thead th {\n",
       "        text-align: right;\n",
       "    }\n",
       "</style>\n",
       "<table border=\"1\" class=\"dataframe\">\n",
       "  <thead>\n",
       "    <tr style=\"text-align: right;\">\n",
       "      <th></th>\n",
       "      <th>sepal_len</th>\n",
       "      <th>sepal_wid</th>\n",
       "      <th>petal_len</th>\n",
       "      <th>petal_wid</th>\n",
       "      <th>target</th>\n",
       "    </tr>\n",
       "  </thead>\n",
       "  <tbody>\n",
       "    <tr>\n",
       "      <th>0</th>\n",
       "      <td>5.1</td>\n",
       "      <td>3.5</td>\n",
       "      <td>1.4</td>\n",
       "      <td>0.2</td>\n",
       "      <td>0</td>\n",
       "    </tr>\n",
       "    <tr>\n",
       "      <th>1</th>\n",
       "      <td>4.9</td>\n",
       "      <td>3.0</td>\n",
       "      <td>1.4</td>\n",
       "      <td>0.2</td>\n",
       "      <td>0</td>\n",
       "    </tr>\n",
       "    <tr>\n",
       "      <th>2</th>\n",
       "      <td>4.7</td>\n",
       "      <td>3.2</td>\n",
       "      <td>1.3</td>\n",
       "      <td>0.2</td>\n",
       "      <td>0</td>\n",
       "    </tr>\n",
       "    <tr>\n",
       "      <th>3</th>\n",
       "      <td>4.6</td>\n",
       "      <td>3.1</td>\n",
       "      <td>1.5</td>\n",
       "      <td>0.2</td>\n",
       "      <td>0</td>\n",
       "    </tr>\n",
       "    <tr>\n",
       "      <th>4</th>\n",
       "      <td>5.0</td>\n",
       "      <td>3.6</td>\n",
       "      <td>1.4</td>\n",
       "      <td>0.2</td>\n",
       "      <td>0</td>\n",
       "    </tr>\n",
       "  </tbody>\n",
       "</table>\n",
       "</div>"
      ],
      "text/plain": [
       "   sepal_len  sepal_wid  petal_len  petal_wid  target\n",
       "0        5.1        3.5        1.4        0.2       0\n",
       "1        4.9        3.0        1.4        0.2       0\n",
       "2        4.7        3.2        1.3        0.2       0\n",
       "3        4.6        3.1        1.5        0.2       0\n",
       "4        5.0        3.6        1.4        0.2       0"
      ]
     },
     "execution_count": 4,
     "metadata": {},
     "output_type": "execute_result"
    }
   ],
   "source": [
    "iris_df.head() #Checking the dataframe"
   ]
  },
  {
   "cell_type": "code",
   "execution_count": 5,
   "id": "ca3ecde8",
   "metadata": {},
   "outputs": [
    {
     "name": "stdout",
     "output_type": "stream",
     "text": [
      "(150, 5)\n"
     ]
    }
   ],
   "source": [
    "print(iris_df.shape) #Checking the number of rows and columns"
   ]
  },
  {
   "cell_type": "code",
   "execution_count": 6,
   "id": "079673d2",
   "metadata": {},
   "outputs": [
    {
     "name": "stdout",
     "output_type": "stream",
     "text": [
      "<class 'pandas.core.frame.DataFrame'>\n",
      "Int64Index: 150 entries, 0 to 149\n",
      "Data columns (total 5 columns):\n",
      " #   Column     Non-Null Count  Dtype  \n",
      "---  ------     --------------  -----  \n",
      " 0   sepal_len  150 non-null    float64\n",
      " 1   sepal_wid  150 non-null    float64\n",
      " 2   petal_len  150 non-null    float64\n",
      " 3   petal_wid  150 non-null    float64\n",
      " 4   target     150 non-null    int32  \n",
      "dtypes: float64(4), int32(1)\n",
      "memory usage: 6.4 KB\n",
      "None\n"
     ]
    }
   ],
   "source": [
    "print(iris_df.info()) #Getting additional insights on the dataframe"
   ]
  },
  {
   "cell_type": "code",
   "execution_count": 7,
   "id": "d483da5b",
   "metadata": {},
   "outputs": [],
   "source": [
    "spark_iris = spark.createDataFrame(iris_df) #Converting the pandas dataframe to a spark dataframe"
   ]
  },
  {
   "cell_type": "code",
   "execution_count": 8,
   "id": "6ed1ffca",
   "metadata": {},
   "outputs": [
    {
     "name": "stdout",
     "output_type": "stream",
     "text": [
      "+---------+---------+---------+---------+------+\n",
      "|sepal_len|sepal_wid|petal_len|petal_wid|target|\n",
      "+---------+---------+---------+---------+------+\n",
      "|      5.1|      3.5|      1.4|      0.2|     0|\n",
      "|      4.9|      3.0|      1.4|      0.2|     0|\n",
      "|      4.7|      3.2|      1.3|      0.2|     0|\n",
      "|      4.6|      3.1|      1.5|      0.2|     0|\n",
      "|      5.0|      3.6|      1.4|      0.2|     0|\n",
      "|      5.4|      3.9|      1.7|      0.4|     0|\n",
      "|      4.6|      3.4|      1.4|      0.3|     0|\n",
      "|      5.0|      3.4|      1.5|      0.2|     0|\n",
      "|      4.4|      2.9|      1.4|      0.2|     0|\n",
      "|      4.9|      3.1|      1.5|      0.1|     0|\n",
      "|      5.4|      3.7|      1.5|      0.2|     0|\n",
      "|      4.8|      3.4|      1.6|      0.2|     0|\n",
      "|      4.8|      3.0|      1.4|      0.1|     0|\n",
      "|      4.3|      3.0|      1.1|      0.1|     0|\n",
      "|      5.8|      4.0|      1.2|      0.2|     0|\n",
      "|      5.7|      4.4|      1.5|      0.4|     0|\n",
      "|      5.4|      3.9|      1.3|      0.4|     0|\n",
      "|      5.1|      3.5|      1.4|      0.3|     0|\n",
      "|      5.7|      3.8|      1.7|      0.3|     0|\n",
      "|      5.1|      3.8|      1.5|      0.3|     0|\n",
      "+---------+---------+---------+---------+------+\n",
      "only showing top 20 rows\n",
      "\n"
     ]
    }
   ],
   "source": [
    "spark_iris.show() #Displaying the spark dataframe"
   ]
  },
  {
   "cell_type": "code",
   "execution_count": 9,
   "id": "342c7280",
   "metadata": {},
   "outputs": [
    {
     "name": "stdout",
     "output_type": "stream",
     "text": [
      "+---------+---------+---------+---------+\n",
      "|sepal_len|sepal_wid|petal_len|petal_wid|\n",
      "+---------+---------+---------+---------+\n",
      "|      5.1|      3.5|      1.4|      0.2|\n",
      "|      4.9|      3.0|      1.4|      0.2|\n",
      "|      4.7|      3.2|      1.3|      0.2|\n",
      "|      4.6|      3.1|      1.5|      0.2|\n",
      "|      5.0|      3.6|      1.4|      0.2|\n",
      "|      5.4|      3.9|      1.7|      0.4|\n",
      "|      4.6|      3.4|      1.4|      0.3|\n",
      "|      5.0|      3.4|      1.5|      0.2|\n",
      "|      4.4|      2.9|      1.4|      0.2|\n",
      "|      4.9|      3.1|      1.5|      0.1|\n",
      "|      5.4|      3.7|      1.5|      0.2|\n",
      "|      4.8|      3.4|      1.6|      0.2|\n",
      "|      4.8|      3.0|      1.4|      0.1|\n",
      "|      4.3|      3.0|      1.1|      0.1|\n",
      "|      5.8|      4.0|      1.2|      0.2|\n",
      "|      5.7|      4.4|      1.5|      0.4|\n",
      "|      5.4|      3.9|      1.3|      0.4|\n",
      "|      5.1|      3.5|      1.4|      0.3|\n",
      "|      5.7|      3.8|      1.7|      0.3|\n",
      "|      5.1|      3.8|      1.5|      0.3|\n",
      "+---------+---------+---------+---------+\n",
      "only showing top 20 rows\n",
      "\n"
     ]
    }
   ],
   "source": [
    "spark_iris = spark_iris.drop(\"target\") #As we need to use k-means i.e. unsupervised learning, we get rid of the target column\n",
    "\n",
    "spark_iris.show() #Displaying the spark dataframe post dropping the target column that will be used in k-means"
   ]
  },
  {
   "cell_type": "markdown",
   "id": "ea1ced6c",
   "metadata": {},
   "source": [
    "#Task 2: Build a K-means model to classify the species of Iris. "
   ]
  },
  {
   "cell_type": "code",
   "execution_count": 10,
   "id": "c0317ef7",
   "metadata": {},
   "outputs": [],
   "source": [
    "#In order to apply k-means model, we need to create a vector assembler for which we would need to define an input vector\n",
    "\n",
    "input = ['sepal_len', 'sepal_wid', 'petal_len', 'petal_wid'] #Defining columns to be used as input in a list"
   ]
  },
  {
   "cell_type": "code",
   "execution_count": 11,
   "id": "3fee82ea",
   "metadata": {},
   "outputs": [],
   "source": [
    "from pyspark.ml.linalg import Vector\n",
    "from pyspark.ml.feature import VectorAssembler"
   ]
  },
  {
   "cell_type": "code",
   "execution_count": 12,
   "id": "03fed276",
   "metadata": {},
   "outputs": [],
   "source": [
    "vector_assem = VectorAssembler(inputCols = input, outputCol = \"Features\") #Creating a vector assembler"
   ]
  },
  {
   "cell_type": "code",
   "execution_count": 13,
   "id": "c60683ff",
   "metadata": {},
   "outputs": [],
   "source": [
    "final_data = vector_assem.transform(spark_iris) #Appending the vector assembler to our dataframe"
   ]
  },
  {
   "cell_type": "code",
   "execution_count": 14,
   "id": "5b22182c",
   "metadata": {},
   "outputs": [
    {
     "name": "stdout",
     "output_type": "stream",
     "text": [
      "+---------+---------+---------+---------+-----------------+\n",
      "|sepal_len|sepal_wid|petal_len|petal_wid|         Features|\n",
      "+---------+---------+---------+---------+-----------------+\n",
      "|      5.1|      3.5|      1.4|      0.2|[5.1,3.5,1.4,0.2]|\n",
      "|      4.9|      3.0|      1.4|      0.2|[4.9,3.0,1.4,0.2]|\n",
      "|      4.7|      3.2|      1.3|      0.2|[4.7,3.2,1.3,0.2]|\n",
      "|      4.6|      3.1|      1.5|      0.2|[4.6,3.1,1.5,0.2]|\n",
      "|      5.0|      3.6|      1.4|      0.2|[5.0,3.6,1.4,0.2]|\n",
      "|      5.4|      3.9|      1.7|      0.4|[5.4,3.9,1.7,0.4]|\n",
      "|      4.6|      3.4|      1.4|      0.3|[4.6,3.4,1.4,0.3]|\n",
      "|      5.0|      3.4|      1.5|      0.2|[5.0,3.4,1.5,0.2]|\n",
      "|      4.4|      2.9|      1.4|      0.2|[4.4,2.9,1.4,0.2]|\n",
      "|      4.9|      3.1|      1.5|      0.1|[4.9,3.1,1.5,0.1]|\n",
      "|      5.4|      3.7|      1.5|      0.2|[5.4,3.7,1.5,0.2]|\n",
      "|      4.8|      3.4|      1.6|      0.2|[4.8,3.4,1.6,0.2]|\n",
      "|      4.8|      3.0|      1.4|      0.1|[4.8,3.0,1.4,0.1]|\n",
      "|      4.3|      3.0|      1.1|      0.1|[4.3,3.0,1.1,0.1]|\n",
      "|      5.8|      4.0|      1.2|      0.2|[5.8,4.0,1.2,0.2]|\n",
      "|      5.7|      4.4|      1.5|      0.4|[5.7,4.4,1.5,0.4]|\n",
      "|      5.4|      3.9|      1.3|      0.4|[5.4,3.9,1.3,0.4]|\n",
      "|      5.1|      3.5|      1.4|      0.3|[5.1,3.5,1.4,0.3]|\n",
      "|      5.7|      3.8|      1.7|      0.3|[5.7,3.8,1.7,0.3]|\n",
      "|      5.1|      3.8|      1.5|      0.3|[5.1,3.8,1.5,0.3]|\n",
      "+---------+---------+---------+---------+-----------------+\n",
      "only showing top 20 rows\n",
      "\n"
     ]
    }
   ],
   "source": [
    "final_data.show() #Displaying our dataframe with the vector assembler"
   ]
  },
  {
   "cell_type": "code",
   "execution_count": 15,
   "id": "c6a401f6",
   "metadata": {},
   "outputs": [],
   "source": [
    "from pyspark.ml.clustering import KMeans\n",
    "from pyspark.ml.evaluation import ClusteringEvaluator"
   ]
  },
  {
   "cell_type": "code",
   "execution_count": 16,
   "id": "f9d399ef",
   "metadata": {},
   "outputs": [],
   "source": [
    "kmeans = KMeans (featuresCol=\"Features\", k=5) #Creating the k-means model and passing the vector assembler values. I have decided to try k=5"
   ]
  },
  {
   "cell_type": "code",
   "execution_count": 17,
   "id": "9df36f5e",
   "metadata": {},
   "outputs": [],
   "source": [
    "model = kmeans.fit(final_data) #Passing the dataframe to the k-means model"
   ]
  },
  {
   "cell_type": "code",
   "execution_count": 18,
   "id": "ea10de1a",
   "metadata": {},
   "outputs": [
    {
     "data": {
      "text/plain": [
       "KMeansModel: uid=KMeans_cc4bfeca6a97, k=5, distanceMeasure=euclidean, numFeatures=4"
      ]
     },
     "execution_count": 18,
     "metadata": {},
     "output_type": "execute_result"
    }
   ],
   "source": [
    "model #Checking if the k-means model has been correctly created"
   ]
  },
  {
   "cell_type": "code",
   "execution_count": 19,
   "id": "196c4bdf",
   "metadata": {},
   "outputs": [
    {
     "name": "stdout",
     "output_type": "stream",
     "text": [
      "+----------+-----+\n",
      "|Prediction|count|\n",
      "+----------+-----+\n",
      "|         1|   50|\n",
      "|         2|   26|\n",
      "|         0|   22|\n",
      "|         3|   30|\n",
      "|         4|   22|\n",
      "+----------+-----+\n",
      "\n"
     ]
    }
   ],
   "source": [
    "model.transform(final_data).groupBy(\"Prediction\").count().show() #Getting the count of prediction & count"
   ]
  },
  {
   "cell_type": "code",
   "execution_count": 20,
   "id": "d84ba149",
   "metadata": {},
   "outputs": [],
   "source": [
    "predicted_data = model.transform(final_data) #Appending the predictions to the datframe"
   ]
  },
  {
   "cell_type": "code",
   "execution_count": 21,
   "id": "0b75925a",
   "metadata": {},
   "outputs": [
    {
     "name": "stdout",
     "output_type": "stream",
     "text": [
      "+---------+---------+---------+---------+-----------------+----------+\n",
      "|sepal_len|sepal_wid|petal_len|petal_wid|         Features|prediction|\n",
      "+---------+---------+---------+---------+-----------------+----------+\n",
      "|      5.1|      3.5|      1.4|      0.2|[5.1,3.5,1.4,0.2]|         1|\n",
      "|      4.9|      3.0|      1.4|      0.2|[4.9,3.0,1.4,0.2]|         1|\n",
      "|      4.7|      3.2|      1.3|      0.2|[4.7,3.2,1.3,0.2]|         1|\n",
      "|      4.6|      3.1|      1.5|      0.2|[4.6,3.1,1.5,0.2]|         1|\n",
      "|      5.0|      3.6|      1.4|      0.2|[5.0,3.6,1.4,0.2]|         1|\n",
      "|      5.4|      3.9|      1.7|      0.4|[5.4,3.9,1.7,0.4]|         1|\n",
      "|      4.6|      3.4|      1.4|      0.3|[4.6,3.4,1.4,0.3]|         1|\n",
      "|      5.0|      3.4|      1.5|      0.2|[5.0,3.4,1.5,0.2]|         1|\n",
      "|      4.4|      2.9|      1.4|      0.2|[4.4,2.9,1.4,0.2]|         1|\n",
      "|      4.9|      3.1|      1.5|      0.1|[4.9,3.1,1.5,0.1]|         1|\n",
      "|      5.4|      3.7|      1.5|      0.2|[5.4,3.7,1.5,0.2]|         1|\n",
      "|      4.8|      3.4|      1.6|      0.2|[4.8,3.4,1.6,0.2]|         1|\n",
      "|      4.8|      3.0|      1.4|      0.1|[4.8,3.0,1.4,0.1]|         1|\n",
      "|      4.3|      3.0|      1.1|      0.1|[4.3,3.0,1.1,0.1]|         1|\n",
      "|      5.8|      4.0|      1.2|      0.2|[5.8,4.0,1.2,0.2]|         1|\n",
      "|      5.7|      4.4|      1.5|      0.4|[5.7,4.4,1.5,0.4]|         1|\n",
      "|      5.4|      3.9|      1.3|      0.4|[5.4,3.9,1.3,0.4]|         1|\n",
      "|      5.1|      3.5|      1.4|      0.3|[5.1,3.5,1.4,0.3]|         1|\n",
      "|      5.7|      3.8|      1.7|      0.3|[5.7,3.8,1.7,0.3]|         1|\n",
      "|      5.1|      3.8|      1.5|      0.3|[5.1,3.8,1.5,0.3]|         1|\n",
      "+---------+---------+---------+---------+-----------------+----------+\n",
      "only showing top 20 rows\n",
      "\n"
     ]
    }
   ],
   "source": [
    "predicted_data.show() #Displaying the prediction with our dataframe"
   ]
  },
  {
   "cell_type": "markdown",
   "id": "377de2ea",
   "metadata": {},
   "source": [
    "#Task 3: Report the original performance using Silhouette score. "
   ]
  },
  {
   "cell_type": "code",
   "execution_count": 22,
   "id": "9214503c",
   "metadata": {},
   "outputs": [],
   "source": [
    "evaluator = ClusteringEvaluator(featuresCol='Features',metricName='silhouette', distanceMeasure='squaredEuclidean') \n",
    "#Defining the cluster evaluator which will measure how close each point in one cluster is to points in neighbouring clusters "
   ]
  },
  {
   "cell_type": "code",
   "execution_count": 23,
   "id": "a3be7af2",
   "metadata": {},
   "outputs": [],
   "source": [
    "silhouette = evaluator.evaluate(predicted_data) #Passing the predictions and features as input to the evaluator"
   ]
  },
  {
   "cell_type": "code",
   "execution_count": 24,
   "id": "f3dd6016",
   "metadata": {},
   "outputs": [
    {
     "data": {
      "text/plain": [
       "0.6164493422227454"
      ]
     },
     "execution_count": 24,
     "metadata": {},
     "output_type": "execute_result"
    }
   ],
   "source": [
    "silhouette #Displaying the sillhouette value"
   ]
  },
  {
   "cell_type": "markdown",
   "id": "9cc19f27",
   "metadata": {},
   "source": [
    "#Task 4: Try to improve the performance of the original model by trying at least 10 different k values."
   ]
  },
  {
   "cell_type": "code",
   "execution_count": 25,
   "id": "35a9834b",
   "metadata": {},
   "outputs": [],
   "source": [
    "silhouette_values = [] #creating an empty list to append the silhouette values to later on"
   ]
  },
  {
   "cell_type": "code",
   "execution_count": 26,
   "id": "3b360523",
   "metadata": {},
   "outputs": [],
   "source": [
    "evaluator_new = ClusteringEvaluator(featuresCol='Features',metricName='silhouette', distanceMeasure='squaredEuclidean') #Defining a new evaluator\n",
    "\n",
    "for K in range (2,12): #We select 10 values from 2 to 12\n",
    "    clusters = KMeans(featuresCol = 'Features', k = K) #Passing the features column and keeping k i the range of 2 to 12\n",
    "    model_fit = clusters.fit(final_data) #Passing the dataframe through 'clusters'\n",
    "    model_transform = model_fit.transform(final_data) #Passing the dataframe throgh 'model_fit'\n",
    "    evaluation_score = evaluator_new.evaluate(model_transform) #Passing 'model_transform' as an input to the evaluator\n",
    "    \n",
    "    silhouette_values.append(evaluation_score) #Appending the values to the list silhouette_values"
   ]
  },
  {
   "cell_type": "code",
   "execution_count": 27,
   "id": "12ba5468",
   "metadata": {},
   "outputs": [
    {
     "data": {
      "text/plain": [
       "[0.8503512229251472,\n",
       " 0.735659605433223,\n",
       " 0.6787998609321808,\n",
       " 0.6164493422227454,\n",
       " 0.6446709559107205,\n",
       " 0.47412305969794477,\n",
       " 0.597938482069107,\n",
       " 0.5888154391847682,\n",
       " 0.577510016142841,\n",
       " 0.48168539524421694]"
      ]
     },
     "execution_count": 27,
     "metadata": {},
     "output_type": "execute_result"
    }
   ],
   "source": [
    "silhouette_values #Displaying the list"
   ]
  },
  {
   "cell_type": "code",
   "execution_count": 28,
   "id": "ef682fc7",
   "metadata": {},
   "outputs": [
    {
     "data": {
      "text/plain": [
       "Text(0, 0.5, 'Silhouette')"
      ]
     },
     "execution_count": 28,
     "metadata": {},
     "output_type": "execute_result"
    },
    {
     "data": {
      "image/png": "[encoded data removed]",
      "text/plain": [
       "<Figure size 720x792 with 1 Axes>"
      ]
     },
     "metadata": {
      "needs_background": "light"
     },
     "output_type": "display_data"
    }
   ],
   "source": [
    "import matplotlib.pyplot as plt\n",
    "\n",
    "fig, ax = plt.subplots(1,1, figsize =(10,11)) #Defining the plot window\n",
    "\n",
    "ax.plot(range(2,12),silhouette_values) #Passing the list and defining the range of values\n",
    "\n",
    "ax.set_xlabel('Clusters') #Assigning appropriate labels to the graph\n",
    "ax.set_ylabel('Silhouette')"
   ]
  },
  {
   "cell_type": "markdown",
   "id": "df31f8c0",
   "metadata": {},
   "source": [
    "The value for silhouette score varies between -1 to 1 where 1 means that cluster is dense and well separated from other clusters.\n",
    "Silhouette value closer to 0 means that clusters are overlapped & samples are very close to decision boundary of neighbouring clusters.\n",
    "A negative score would indicate that the sample has been incorrectly assigned to the wrong clusters"
   ]
  },
  {
   "cell_type": "code",
   "execution_count": 29,
   "id": "5481e272",
   "metadata": {
    "scrolled": false
   },
   "outputs": [
    {
     "data": {
      "text/plain": [
       "0.8503512229251472"
      ]
     },
     "execution_count": 29,
     "metadata": {},
     "output_type": "execute_result"
    }
   ],
   "source": [
    "max(silhouette_values) #Double checking the maximum value in the list 'silhouette_values'"
   ]
  },
  {
   "cell_type": "markdown",
   "id": "c554569c",
   "metadata": {},
   "source": [
    "From the graph and the list of values, we observe that the silhouette value is closest to 1 for k=2 i.e., 0.8503512229251472. Hence we can conclude that k=2 gives the best k-means performance"
   ]
  },
  {
   "cell_type": "code",
   "execution_count": 30,
   "id": "b7cea996",
   "metadata": {},
   "outputs": [
    {
     "name": "stdout",
     "output_type": "stream",
     "text": [
      "k = 2 gives the best performance, Silhouette = 0.8503512229251472\n"
     ]
    }
   ],
   "source": [
    "print('k = 2 gives the best performance, Silhouette = 0.8503512229251472') \n",
    "#Printing the output as requested in the assignment"
   ]
  }
 ],
 "metadata": {
  "kernelspec": {
   "display_name": "Python 3 (ipykernel)",
   "language": "python",
   "name": "python3"
  },
  "language_info": {
   "codemirror_mode": {
    "name": "ipython",
    "version": 3
   },
   "file_extension": ".py",
   "mimetype": "text/x-python",
   "name": "python",
   "nbconvert_exporter": "python",
   "pygments_lexer": "ipython3",
   "version": "3.9.7"
  }
 },
 "nbformat": 4,
 "nbformat_minor": 5
}
